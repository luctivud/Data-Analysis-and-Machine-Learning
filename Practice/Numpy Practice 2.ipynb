{
 "cells": [
  {
   "cell_type": "markdown",
   "metadata": {},
   "source": [
    "# Numpy Practice ///"
   ]
  },
  {
   "cell_type": "code",
   "execution_count": 1,
   "metadata": {},
   "outputs": [],
   "source": [
    "import numpy as np"
   ]
  },
  {
   "cell_type": "code",
   "execution_count": 4,
   "metadata": {},
   "outputs": [
    {
     "data": {
      "text/plain": [
       "array([ 0,  2, -6, -1, -6])"
      ]
     },
     "execution_count": 4,
     "metadata": {},
     "output_type": "execute_result"
    }
   ],
   "source": [
    "r1 = np.random.randint(-6, 6, size = 5)\n",
    "r1"
   ]
  },
  {
   "cell_type": "code",
   "execution_count": 6,
   "metadata": {},
   "outputs": [
    {
     "data": {
      "text/plain": [
       "array([0, 2, 6, 1, 6])"
      ]
     },
     "execution_count": 6,
     "metadata": {},
     "output_type": "execute_result"
    }
   ],
   "source": [
    "n = np.absolute(r1)\n",
    "n"
   ]
  },
  {
   "cell_type": "code",
   "execution_count": 7,
   "metadata": {},
   "outputs": [
    {
     "data": {
      "text/plain": [
       "array([  1.        ,   7.3890561 , 403.42879349,   2.71828183,\n",
       "       403.42879349])"
      ]
     },
     "execution_count": 7,
     "metadata": {},
     "output_type": "execute_result"
    }
   ],
   "source": [
    "#  e^x\n",
    "np.exp(n)"
   ]
  },
  {
   "cell_type": "code",
   "execution_count": 10,
   "metadata": {},
   "outputs": [
    {
     "data": {
      "text/plain": [
       "array([ 1.,  4., 64.,  2., 64.])"
      ]
     },
     "execution_count": 10,
     "metadata": {},
     "output_type": "execute_result"
    }
   ],
   "source": [
    "np.exp2(n)\n",
    "# NO exp10"
   ]
  },
  {
   "cell_type": "code",
   "execution_count": 11,
   "metadata": {},
   "outputs": [
    {
     "name": "stderr",
     "output_type": "stream",
     "text": [
      "<ipython-input-11-f5fe72b14f06>:1: RuntimeWarning: divide by zero encountered in log\n",
      "  np.log(n)\n"
     ]
    },
    {
     "data": {
      "text/plain": [
       "array([      -inf, 0.69314718, 1.79175947, 0.        , 1.79175947])"
      ]
     },
     "execution_count": 11,
     "metadata": {},
     "output_type": "execute_result"
    }
   ],
   "source": [
    "np.log(n)"
   ]
  },
  {
   "cell_type": "code",
   "execution_count": 12,
   "metadata": {},
   "outputs": [
    {
     "data": {
      "text/plain": [
       "array([0.69314718, 1.38629436, 2.07944154, 1.09861229, 2.07944154])"
      ]
     },
     "execution_count": 12,
     "metadata": {},
     "output_type": "execute_result"
    }
   ],
   "source": [
    "np.log(n+2)"
   ]
  },
  {
   "cell_type": "code",
   "execution_count": 13,
   "metadata": {},
   "outputs": [
    {
     "data": {
      "text/plain": [
       "array([1.       , 2.       , 3.       , 1.5849625, 3.       ])"
      ]
     },
     "execution_count": 13,
     "metadata": {},
     "output_type": "execute_result"
    }
   ],
   "source": [
    "np.log2(n+2)"
   ]
  },
  {
   "cell_type": "code",
   "execution_count": 14,
   "metadata": {},
   "outputs": [
    {
     "data": {
      "text/plain": [
       "array([0.30103   , 0.60205999, 0.90308999, 0.47712125, 0.90308999])"
      ]
     },
     "execution_count": 14,
     "metadata": {},
     "output_type": "execute_result"
    }
   ],
   "source": [
    "np.log10(n+2)"
   ]
  },
  {
   "cell_type": "code",
   "execution_count": 18,
   "metadata": {},
   "outputs": [
    {
     "data": {
      "text/plain": [
       "29.897352853986263"
      ]
     },
     "execution_count": 18,
     "metadata": {},
     "output_type": "execute_result"
    }
   ],
   "source": [
    "#  lol ariana// cz vibin on moonlight rn\n",
    "ariana = 1e9\n",
    "binarySearchOn = np.log2\n",
    "binarySearchOn(ariana)"
   ]
  },
  {
   "cell_type": "code",
   "execution_count": 21,
   "metadata": {},
   "outputs": [
    {
     "data": {
      "text/plain": [
       "array([1000000000], dtype=int64)"
      ]
     },
     "execution_count": 21,
     "metadata": {},
     "output_type": "execute_result"
    }
   ],
   "source": [
    "ariana = np.array([1e9]).astype(np.int64)\n",
    "ariana"
   ]
  },
  {
   "cell_type": "code",
   "execution_count": 33,
   "metadata": {},
   "outputs": [
    {
     "data": {
      "text/plain": [
       "1000000000"
      ]
     },
     "execution_count": 33,
     "metadata": {},
     "output_type": "execute_result"
    }
   ],
   "source": [
    "ariana = np.float64(1e9).astype(np.int64)\n",
    "ariana"
   ]
  },
  {
   "cell_type": "code",
   "execution_count": 38,
   "metadata": {},
   "outputs": [
    {
     "name": "stdout",
     "output_type": "stream",
     "text": [
      "[ 0. 10. 20. 30. 40.]\n"
     ]
    }
   ],
   "source": [
    "ariana = np.arange(5)\n",
    "dangerouswoman = np.empty(5)\n",
    "# print(dangerouswoman)\n",
    "np.multiply(ariana, 10, out = dangerouswoman)\n",
    "print(dangerouswoman)"
   ]
  },
  {
   "cell_type": "code",
   "execution_count": 40,
   "metadata": {},
   "outputs": [
    {
     "data": {
      "text/plain": [
       "45"
      ]
     },
     "execution_count": 40,
     "metadata": {},
     "output_type": "execute_result"
    }
   ],
   "source": [
    "ariana = np.arange(1, 10)\n",
    "np.sum(ariana)"
   ]
  },
  {
   "cell_type": "code",
   "execution_count": 42,
   "metadata": {},
   "outputs": [
    {
     "data": {
      "text/plain": [
       "45"
      ]
     },
     "execution_count": 42,
     "metadata": {},
     "output_type": "execute_result"
    }
   ],
   "source": [
    "np.add.reduce(ariana)"
   ]
  },
  {
   "cell_type": "code",
   "execution_count": 44,
   "metadata": {},
   "outputs": [
    {
     "data": {
      "text/plain": [
       "array([ 1,  3,  6, 10, 15, 21, 28, 36, 45], dtype=int32)"
      ]
     },
     "execution_count": 44,
     "metadata": {},
     "output_type": "execute_result"
    }
   ],
   "source": [
    "np.add.accumulate(ariana)"
   ]
  },
  {
   "cell_type": "markdown",
   "metadata": {},
   "source": [
    "## Read aggregation fxn available in numpy\n",
    "sum, prod, cumsum, sumprod"
   ]
  },
  {
   "cell_type": "code",
   "execution_count": 45,
   "metadata": {},
   "outputs": [],
   "source": [
    "#  ufunc"
   ]
  },
  {
   "cell_type": "code",
   "execution_count": 46,
   "metadata": {},
   "outputs": [
    {
     "data": {
      "text/plain": [
       "array([0, 10, 20, 30, 40, 50, 60, 70, 80, 90], dtype=object)"
      ]
     },
     "execution_count": 46,
     "metadata": {},
     "output_type": "execute_result"
    }
   ],
   "source": [
    "def makeDangerous(x):\n",
    "    return x * 10\n",
    "makeDangerous = np.frompyfunc(makeDangerous, 1, 1) #1 input , 1 output\n",
    "ariana = np.arange(10)\n",
    "makeDangerous(ariana)"
   ]
  },
  {
   "cell_type": "code",
   "execution_count": 47,
   "metadata": {},
   "outputs": [
    {
     "data": {
      "text/plain": [
       "array([ 0, 10, 20, 30, 40, 50, 60, 70, 80, 90], dtype=int64)"
      ]
     },
     "execution_count": 47,
     "metadata": {},
     "output_type": "execute_result"
    }
   ],
   "source": [
    "makeDangerous(ariana).astype(np.int64)"
   ]
  },
  {
   "cell_type": "code",
   "execution_count": 49,
   "metadata": {},
   "outputs": [
    {
     "data": {
      "text/plain": [
       "array(['0', '10', '20', '30', '40', '50', '60', '70', '80', '90'],\n",
       "      dtype='<U2')"
      ]
     },
     "execution_count": 49,
     "metadata": {},
     "output_type": "execute_result"
    }
   ],
   "source": [
    "makeDangerous(ariana).astype(np.str)"
   ]
  },
  {
   "cell_type": "code",
   "execution_count": 50,
   "metadata": {},
   "outputs": [
    {
     "data": {
      "text/plain": [
       "4.5"
      ]
     },
     "execution_count": 50,
     "metadata": {},
     "output_type": "execute_result"
    }
   ],
   "source": [
    "np.mean(ariana)"
   ]
  },
  {
   "cell_type": "code",
   "execution_count": 54,
   "metadata": {},
   "outputs": [
    {
     "data": {
      "text/plain": [
       "45.0"
      ]
     },
     "execution_count": 54,
     "metadata": {},
     "output_type": "execute_result"
    }
   ],
   "source": [
    "np.mean(makeDangerous(ariana).astype(np.int64))"
   ]
  },
  {
   "cell_type": "code",
   "execution_count": 58,
   "metadata": {},
   "outputs": [
    {
     "data": {
      "text/plain": [
       "45"
      ]
     },
     "execution_count": 58,
     "metadata": {},
     "output_type": "execute_result"
    }
   ],
   "source": [
    "np.mean(makeDangerous(ariana).astype(np.int64)).astype(np.int64)"
   ]
  },
  {
   "cell_type": "code",
   "execution_count": 60,
   "metadata": {},
   "outputs": [
    {
     "ename": "AttributeError",
     "evalue": "'float' object has no attribute 'astype'",
     "output_type": "error",
     "traceback": [
      "\u001b[1;31m---------------------------------------------------------------------------\u001b[0m",
      "\u001b[1;31mAttributeError\u001b[0m                            Traceback (most recent call last)",
      "\u001b[1;32m<ipython-input-60-a78a5a1fb1d0>\u001b[0m in \u001b[0;36m<module>\u001b[1;34m\u001b[0m\n\u001b[0;32m      1\u001b[0m \u001b[1;31m# Look at this simple mistake can be made\u001b[0m\u001b[1;33m\u001b[0m\u001b[1;33m\u001b[0m\u001b[1;33m\u001b[0m\u001b[0m\n\u001b[0;32m      2\u001b[0m \u001b[1;31m# because its not np.float\u001b[0m\u001b[1;33m\u001b[0m\u001b[1;33m\u001b[0m\u001b[1;33m\u001b[0m\u001b[0m\n\u001b[1;32m----> 3\u001b[1;33m \u001b[0mnp\u001b[0m\u001b[1;33m.\u001b[0m\u001b[0mmean\u001b[0m\u001b[1;33m(\u001b[0m\u001b[0mmakeDangerous\u001b[0m\u001b[1;33m(\u001b[0m\u001b[0mariana\u001b[0m\u001b[1;33m)\u001b[0m\u001b[1;33m)\u001b[0m\u001b[1;33m.\u001b[0m\u001b[0mastype\u001b[0m\u001b[1;33m(\u001b[0m\u001b[0mnp\u001b[0m\u001b[1;33m.\u001b[0m\u001b[0mint64\u001b[0m\u001b[1;33m)\u001b[0m\u001b[1;33m\u001b[0m\u001b[1;33m\u001b[0m\u001b[0m\n\u001b[0m",
      "\u001b[1;31mAttributeError\u001b[0m: 'float' object has no attribute 'astype'"
     ]
    }
   ],
   "source": [
    "# Look at this simple mistake can be made\n",
    "# because its not np.float\n",
    "np.mean(makeDangerous(ariana)).astype(np.int64)"
   ]
  },
  {
   "cell_type": "code",
   "execution_count": 61,
   "metadata": {},
   "outputs": [
    {
     "data": {
      "text/plain": [
       "2.8722813232690143"
      ]
     },
     "execution_count": 61,
     "metadata": {},
     "output_type": "execute_result"
    }
   ],
   "source": [
    "np.std(ariana)"
   ]
  },
  {
   "cell_type": "code",
   "execution_count": 63,
   "metadata": {},
   "outputs": [
    {
     "data": {
      "text/plain": [
       "<function __main__.<lambda>(ariana)>"
      ]
     },
     "execution_count": 63,
     "metadata": {},
     "output_type": "execute_result"
    }
   ],
   "source": [
    "lambda ariana : ariana * 10"
   ]
  },
  {
   "cell_type": "code",
   "execution_count": 65,
   "metadata": {},
   "outputs": [
    {
     "data": {
      "text/plain": [
       "(array([12], dtype=int32),)"
      ]
     },
     "execution_count": 65,
     "metadata": {},
     "output_type": "execute_result"
    }
   ],
   "source": [
    "ariana = np.arange(15)\n",
    "np.where(ariana == 12)"
   ]
  },
  {
   "cell_type": "code",
   "execution_count": 67,
   "metadata": {},
   "outputs": [
    {
     "data": {
      "text/plain": [
       "array([13,  4, 13,  9, 12,  9,  5,  5,  8, 10, 12, 14,  1,  4, 10,  0, 11])"
      ]
     },
     "execution_count": 67,
     "metadata": {},
     "output_type": "execute_result"
    }
   ],
   "source": [
    "ariana = np.random.randint(15, size = 17)\n",
    "ariana"
   ]
  },
  {
   "cell_type": "code",
   "execution_count": 68,
   "metadata": {},
   "outputs": [
    {
     "data": {
      "text/plain": [
       "(array([12], dtype=int32),)"
      ]
     },
     "execution_count": 68,
     "metadata": {},
     "output_type": "execute_result"
    }
   ],
   "source": [
    "np.where(ariana == 1)"
   ]
  },
  {
   "cell_type": "code",
   "execution_count": 71,
   "metadata": {},
   "outputs": [
    {
     "data": {
      "text/plain": [
       "array([[[ 1,  6,  0,  0],\n",
       "        [12, 10,  0, 11],\n",
       "        [ 5,  5,  3, 11]],\n",
       "\n",
       "       [[ 5,  7,  2, 10],\n",
       "        [ 9, 10,  3,  5],\n",
       "        [ 5, 11,  3, 14]]])"
      ]
     },
     "execution_count": 71,
     "metadata": {},
     "output_type": "execute_result"
    }
   ],
   "source": [
    "ariana = np.random.randint(15, size = (2, 3, 4))\n",
    "ariana"
   ]
  },
  {
   "cell_type": "code",
   "execution_count": 72,
   "metadata": {},
   "outputs": [
    {
     "data": {
      "text/plain": [
       "(array([0, 0, 1, 1, 1], dtype=int32),\n",
       " array([2, 2, 0, 1, 2], dtype=int32),\n",
       " array([0, 1, 0, 3, 0], dtype=int32))"
      ]
     },
     "execution_count": 72,
     "metadata": {},
     "output_type": "execute_result"
    }
   ],
   "source": [
    "np.where(ariana == 5)"
   ]
  },
  {
   "cell_type": "code",
   "execution_count": 73,
   "metadata": {},
   "outputs": [
    {
     "data": {
      "text/plain": [
       "(array([1], dtype=int32), array([2], dtype=int32), array([3], dtype=int32))"
      ]
     },
     "execution_count": 73,
     "metadata": {},
     "output_type": "execute_result"
    }
   ],
   "source": [
    "np.where(ariana == 14)"
   ]
  },
  {
   "cell_type": "code",
   "execution_count": 74,
   "metadata": {},
   "outputs": [],
   "source": [
    "np.sort?\n"
   ]
  },
  {
   "cell_type": "markdown",
   "metadata": {},
   "source": [
    "Signature: np.sort(a, axis=-1, kind=None, order=None)\n",
    "Docstring:\n",
    "Return a sorted copy of an array.\n",
    "\n",
    "Parameters\n",
    "----------\n",
    "a : array_like\n",
    "    Array to be sorted.\n",
    "axis : int or None, optional\n",
    "    Axis along which to sort. If None, the array is flattened before\n",
    "    sorting. The default is -1, which sorts along the last axis.\n",
    "kind : {'quicksort', 'mergesort', 'heapsort', 'stable'}, optional\n",
    "    Sorting algorithm. The default is 'quicksort'. Note that both 'stable'\n",
    "    and 'mergesort' use timsort or radix sort under the covers and, in general,\n",
    "    the actual implementation will vary with data type. The 'mergesort' option\n",
    "    is retained for backwards compatibility.\n",
    "\n",
    "    .. versionchanged:: 1.15.0.\n",
    "       The 'stable' option was added.\n",
    "\n",
    "order : str or list of str, optional\n",
    "    When `a` is an array with fields defined, this argument specifies\n",
    "    which fields to compare first, second, etc.  A single field can\n",
    "    be specified as a string, and not all fields need be specified,\n",
    "    but unspecified fields will still be used, in the order in which\n",
    "    they come up in the dtype, to break ties.\n",
    "\n",
    "Returns\n",
    "-------\n",
    "sorted_array : ndarray\n",
    "    Array of the same type and shape as `a`.\n",
    "\n",
    "See Also\n",
    "--------\n",
    "ndarray.sort : Method to sort an array in-place.\n",
    "argsort : Indirect sort.\n",
    "lexsort : Indirect stable sort on multiple keys.\n",
    "searchsorted : Find elements in a sorted array.\n",
    "partition : Partial sort.\n",
    "\n",
    "Notes\n",
    "-----\n",
    "The various sorting algorithms are characterized by their average speed,\n",
    "worst case performance, work space size, and whether they are stable. A\n",
    "stable sort keeps items with the same key in the same relative\n",
    "order. The four algorithms implemented in NumPy have the following\n",
    "properties:\n",
    "\n",
    "=========== ======= ============= ============ ========\n",
    "   kind      speed   worst case    work space   stable\n",
    "=========== ======= ============= ============ ========\n",
    "'quicksort'    1     O(n^2)            0          no\n",
    "'heapsort'     3     O(n*log(n))       0          no\n",
    "'mergesort'    2     O(n*log(n))      ~n/2        yes\n",
    "'timsort'      2     O(n*log(n))      ~n/2        yes\n",
    "=========== ======= ============= ============ ========\n",
    "\n",
    ".. note:: The datatype determines which of 'mergesort' or 'timsort'\n",
    "   is actually used, even if 'mergesort' is specified. User selection\n",
    "   at a finer scale is not currently available.\n",
    "\n",
    "All the sort algorithms make temporary copies of the data when\n",
    "sorting along any but the last axis.  Consequently, sorting along\n",
    "the last axis is faster and uses less space than sorting along\n",
    "any other axis.\n",
    "\n",
    "The sort order for complex numbers is lexicographic. If both the real\n",
    "and imaginary parts are non-nan then the order is determined by the\n",
    "real parts except when they are equal, in which case the order is\n",
    "determined by the imaginary parts.\n",
    "\n",
    "Previous to numpy 1.4.0 sorting real and complex arrays containing nan\n",
    "values led to undefined behaviour. In numpy versions >= 1.4.0 nan\n",
    "values are sorted to the end. The extended sort order is:\n",
    "\n",
    "  * Real: [R, nan]\n",
    "  * Complex: [R + Rj, R + nanj, nan + Rj, nan + nanj]\n",
    "\n",
    "where R is a non-nan real value. Complex values with the same nan\n",
    "placements are sorted according to the non-nan part if it exists.\n",
    "Non-nan values are sorted as before.\n",
    "\n",
    ".. versionadded:: 1.12.0\n",
    "\n",
    "quicksort has been changed to `introsort <https://en.wikipedia.org/wiki/Introsort>`_.\n",
    "When sorting does not make enough progress it switches to\n",
    "`heapsort <https://en.wikipedia.org/wiki/Heapsort>`_.\n",
    "This implementation makes quicksort O(n*log(n)) in the worst case.\n",
    "\n",
    "'stable' automatically chooses the best stable sorting algorithm\n",
    "for the data type being sorted.\n",
    "It, along with 'mergesort' is currently mapped to\n",
    "`timsort <https://en.wikipedia.org/wiki/Timsort>`_\n",
    "or `radix sort <https://en.wikipedia.org/wiki/Radix_sort>`_\n",
    "depending on the data type.\n",
    "API forward compatibility currently limits the\n",
    "ability to select the implementation and it is hardwired for the different\n",
    "data types.\n",
    "\n",
    ".. versionadded:: 1.17.0\n",
    "\n",
    "Timsort is added for better performance on already or nearly\n",
    "sorted data. On random data timsort is almost identical to\n",
    "mergesort. It is now used for stable sort while quicksort is still the\n",
    "default sort if none is chosen. For timsort details, refer to\n",
    "`CPython listsort.txt <https://github.com/python/cpython/blob/3.7/Objects/listsort.txt>`_.\n",
    "'mergesort' and 'stable' are mapped to radix sort for integer data types. Radix sort is an\n",
    "O(n) sort instead of O(n log n).\n",
    "\n",
    ".. versionchanged:: 1.17.0\n",
    "\n",
    "NaT now sorts to the end of arrays for consistency with NaN."
   ]
  },
  {
   "cell_type": "markdown",
   "metadata": {},
   "source": [
    "#### Sorting along rows and columns is known "
   ]
  },
  {
   "cell_type": "code",
   "execution_count": 75,
   "metadata": {},
   "outputs": [
    {
     "data": {
      "text/plain": [
       "array([1, 0, 9, 4, 1, 3, 0, 8, 1, 3, 8, 9, 6, 9, 0, 8, 4, 4, 0, 4])"
      ]
     },
     "execution_count": 75,
     "metadata": {},
     "output_type": "execute_result"
    }
   ],
   "source": [
    "ariana = np.random.randint(10, size = 20)\n",
    "ariana"
   ]
  },
  {
   "cell_type": "code",
   "execution_count": 76,
   "metadata": {},
   "outputs": [
    {
     "data": {
      "text/plain": [
       "array([9, 8, 8, 9, 6, 9, 8])"
      ]
     },
     "execution_count": 76,
     "metadata": {},
     "output_type": "execute_result"
    }
   ],
   "source": [
    "ariana[ariana > 4]"
   ]
  },
  {
   "cell_type": "code",
   "execution_count": 77,
   "metadata": {},
   "outputs": [
    {
     "data": {
      "text/plain": [
       "array([False, False,  True, False, False, False, False,  True, False,\n",
       "       False,  True,  True,  True,  True, False,  True, False, False,\n",
       "       False, False])"
      ]
     },
     "execution_count": 77,
     "metadata": {},
     "output_type": "execute_result"
    }
   ],
   "source": [
    "ariana > 4"
   ]
  },
  {
   "cell_type": "code",
   "execution_count": 83,
   "metadata": {},
   "outputs": [],
   "source": [
    "ariana = np.random.randint(1e9, size = int(1e5))"
   ]
  },
  {
   "cell_type": "code",
   "execution_count": 91,
   "metadata": {},
   "outputs": [
    {
     "name": "stdout",
     "output_type": "stream",
     "text": [
      "Wall time: 15.6 ms\n"
     ]
    },
    {
     "data": {
      "text/plain": [
       "array([49131, 22312, 81585, ..., 77661, 72092, 36693], dtype=int32)"
      ]
     },
     "execution_count": 91,
     "metadata": {},
     "output_type": "execute_result"
    }
   ],
   "source": [
    "%%time\n",
    "ariana.argsort()"
   ]
  },
  {
   "cell_type": "code",
   "execution_count": 92,
   "metadata": {},
   "outputs": [
    {
     "name": "stdout",
     "output_type": "stream",
     "text": [
      "Wall time: 15.6 ms\n"
     ]
    },
    {
     "data": {
      "text/plain": [
       "array([49131, 22312, 81585, ..., 77661, 72092, 36693], dtype=int32)"
      ]
     },
     "execution_count": 92,
     "metadata": {},
     "output_type": "execute_result"
    }
   ],
   "source": [
    "%%time\n",
    "np.argsort(ariana)"
   ]
  },
  {
   "cell_type": "code",
   "execution_count": null,
   "metadata": {},
   "outputs": [],
   "source": []
  }
 ],
 "metadata": {
  "kernelspec": {
   "display_name": "Python 3",
   "language": "python",
   "name": "python3"
  },
  "language_info": {
   "codemirror_mode": {
    "name": "ipython",
    "version": 3
   },
   "file_extension": ".py",
   "mimetype": "text/x-python",
   "name": "python",
   "nbconvert_exporter": "python",
   "pygments_lexer": "ipython3",
   "version": "3.8.1"
  }
 },
 "nbformat": 4,
 "nbformat_minor": 4
}
